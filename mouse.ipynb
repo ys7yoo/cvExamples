{
 "cells": [
  {
   "cell_type": "markdown",
   "metadata": {},
   "source": [
    "## Let's handle mouse event using OpenCV\n",
    "See [here](http://opencv-python-tutroals.readthedocs.io/en/latest/py_tutorials/py_gui/py_mouse_handling/py_mouse_handling.html#mouse-handling) for more detail."
   ]
  },
  {
   "cell_type": "code",
   "execution_count": 4,
   "metadata": {},
   "outputs": [],
   "source": [
    "import cv2\n"
   ]
  },
  {
   "cell_type": "code",
   "execution_count": 3,
   "metadata": {},
   "outputs": [
    {
     "name": "stdout",
     "output_type": "stream",
     "text": [
      "['EVENT_FLAG_ALTKEY', 'EVENT_FLAG_CTRLKEY', 'EVENT_FLAG_LBUTTON', 'EVENT_FLAG_MBUTTON', 'EVENT_FLAG_RBUTTON', 'EVENT_FLAG_SHIFTKEY', 'EVENT_LBUTTONDBLCLK', 'EVENT_LBUTTONDOWN', 'EVENT_LBUTTONUP', 'EVENT_MBUTTONDBLCLK', 'EVENT_MBUTTONDOWN', 'EVENT_MBUTTONUP', 'EVENT_MOUSEHWHEEL', 'EVENT_MOUSEMOVE', 'EVENT_MOUSEWHEEL', 'EVENT_RBUTTONDBLCLK', 'EVENT_RBUTTONDOWN', 'EVENT_RBUTTONUP']\n"
     ]
    }
   ],
   "source": [
    "# print all possible events\n",
    "events = [i for i in dir(cv2) if 'EVENT' in i]\n",
    "print(events)"
   ]
  },
  {
   "cell_type": "code",
   "execution_count": 2,
   "metadata": {},
   "outputs": [
    {
     "name": "stdout",
     "output_type": "stream",
     "text": [
      "Press ESC to quit\n",
      "EVENT_LBUTTONDOWN:\n",
      "(1, 337, 205)\n",
      "EVENT_LBUTTONDOWN:\n",
      "(1, 130, 232)\n",
      "EVENT_LBUTTONDOWN:\n",
      "(1, 169, 351)\n",
      "EVENT_LBUTTONDOWN:\n",
      "(1, 297, 360)\n",
      "EVENT_RBUTTONDOWN:\n",
      "(2, 184, 250)\n",
      "EVENT_RBUTTONDOWN:\n",
      "(2, 279, 260)\n",
      "quit\n"
     ]
    }
   ],
   "source": [
    "import cv2\n",
    "import numpy as np\n",
    "\n",
    "# mouse callback function\n",
    "def draw_circle(event,x,y,flags,param):\n",
    "    if event == cv2.EVENT_LBUTTONDOWN:\n",
    "        print(\"EVENT_LBUTTONDOWN:\")\n",
    "        print((event,x,y))\n",
    "        cv2.circle(img,(x,y),5,(255,0,0),-1)  # draw a blue circle\n",
    "    elif event == cv2.EVENT_RBUTTONDOWN:\n",
    "        print(\"EVENT_RBUTTONDOWN:\")\n",
    "        print((event,x,y))\n",
    "        cv2.circle(img,(x,y),5,(0,0,255),-1)  # draw a red circle\n",
    " \n",
    "\n",
    "cv2.startWindowThread() # run this first for Notebook!  See https://txt.arboreus.com/2012/07/11/highgui-opencv-window-from-ipython.html\n",
    "\n",
    "# Create a black image, a window and bind the function to window\n",
    "img = np.zeros((512,512,3), np.uint8)\n",
    "cv2.namedWindow('image')\n",
    "cv2.setMouseCallback('image',draw_circle)\n",
    "\n",
    "print(\"Press ESC to quit\")\n",
    "\n",
    "while(1):\n",
    "    cv2.imshow('image',img)\n",
    "    if cv2.waitKey(10) & 0xFF == 27:\n",
    "        print(\"quit\")\n",
    "        break\n",
    "cv2.destroyAllWindows()"
   ]
  },
  {
   "cell_type": "code",
   "execution_count": null,
   "metadata": {
    "collapsed": true
   },
   "outputs": [],
   "source": []
  }
 ],
 "metadata": {
  "kernelspec": {
   "display_name": "Python 3",
   "language": "python",
   "name": "python3"
  },
  "language_info": {
   "codemirror_mode": {
    "name": "ipython",
    "version": 3
   },
   "file_extension": ".py",
   "mimetype": "text/x-python",
   "name": "python",
   "nbconvert_exporter": "python",
   "pygments_lexer": "ipython3",
   "version": "3.6.4"
  }
 },
 "nbformat": 4,
 "nbformat_minor": 2
}
